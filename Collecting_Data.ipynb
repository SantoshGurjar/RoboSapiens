{
 "cells": [
  {
   "cell_type": "code",
   "execution_count": 51,
   "id": "4f1da9eb",
   "metadata": {},
   "outputs": [],
   "source": [
    "import cv2\n",
    "import numpy as np\n",
    "import os"
   ]
  },
  {
   "cell_type": "code",
   "execution_count": 52,
   "id": "45a41cc1",
   "metadata": {},
   "outputs": [],
   "source": [
    "# Create the directory structure\n",
    "if not os.path.exists(\"data\"):\n",
    "    os.makedirs(\"data\")\n",
    "    os.makedirs(\"data/train\")\n",
    "    os.makedirs(\"data/test\")\n",
    "    \n",
    "    os.makedirs(\"data/train/0\")\n",
    "    os.makedirs(\"data/train/1\")\n",
    "    os.makedirs(\"data/train/2\")\n",
    "    os.makedirs(\"data/train/3\")\n",
    "    os.makedirs(\"data/train/4\")\n",
    "    \n",
    "    os.makedirs(\"data/test/0\")\n",
    "    os.makedirs(\"data/test/1\")\n",
    "    os.makedirs(\"data/test/2\")\n",
    "    os.makedirs(\"data/test/3\")\n",
    "    os.makedirs(\"data/test/4\")\n",
    "\n",
    "    "
   ]
  },
  {
   "cell_type": "code",
   "execution_count": 53,
   "id": "57b19b48",
   "metadata": {},
   "outputs": [],
   "source": [
    "# Train or test \n",
    "mode = 'train'#while collecting the training data set to test and while collecting the test data set this mode on test\n",
    "directory = 'data/'+mode+'/'#this command is used to save the image collected to the given directory"
   ]
  },
  {
   "cell_type": "code",
   "execution_count": 54,
   "id": "785b3004",
   "metadata": {},
   "outputs": [],
   "source": [
    "cap = cv2.VideoCapture(1)#this command here is used to start the camera (live streaming)"
   ]
  },
  {
   "cell_type": "code",
   "execution_count": 55,
   "id": "12f87a72",
   "metadata": {},
   "outputs": [],
   "source": [
    "while True:\n",
    "    _, frame = cap.read()#opens a camera frame and it closes only after we press escape after the end of our collection\n",
    "    # Simulating mirror image\n",
    "    frame = cv2.flip(frame, 1)\n",
    "    \n",
    "    # Getting count of existing images\n",
    "    count = {'Breaks': len(os.listdir(directory+\"/0\")),\n",
    "             'Go Straight': len(os.listdir(directory+\"/1\")),\n",
    "             'Go Right': len(os.listdir(directory+\"/2\")),\n",
    "             'Go Left': len(os.listdir(directory+\"/3\")),\n",
    "             'pass': len(os.listdir(directory+\"/4\"))\n",
    "            }\n",
    "    \n",
    "    # Printing the count in each set to the screen\n",
    "    cv2.putText(frame, \"MODE : \"+mode, (10, 50), cv2.FONT_HERSHEY_PLAIN, 1, (0,255,255), 1)\n",
    "    cv2.putText(frame, \"IMAGE COUNT\", (10, 100), cv2.FONT_HERSHEY_PLAIN, 1, (0,255,255), 1)\n",
    "    cv2.putText(frame, \"Breaks : \"+str(count['Breaks']), (10, 120), cv2.FONT_HERSHEY_PLAIN, 1, (0,255,255), 1)\n",
    "    cv2.putText(frame, \"Go Straight : \"+str(count['Go Straight']), (10, 140), cv2.FONT_HERSHEY_PLAIN, 1, (0,255,255), 1)\n",
    "    cv2.putText(frame, \"Go Right : \"+str(count['Go Right']), (10, 160), cv2.FONT_HERSHEY_PLAIN, 1, (0,255,255), 1)\n",
    "    cv2.putText(frame, \"Go Left : \"+str(count['Go Left']), (10, 180), cv2.FONT_HERSHEY_PLAIN, 1, (0,255,255), 1)\n",
    "    cv2.putText(frame, \"pass : \"+str(count['pass']), (10, 200), cv2.FONT_HERSHEY_PLAIN, 1, (0,255,255), 1)\n",
    "\n",
    "    \n",
    "    # Coordinates of the ROI(region of interest)\n",
    "    x1 = int(0.5*frame.shape[1])\n",
    "    y1 = 10\n",
    "    x2 = frame.shape[1]-10\n",
    "    y2 = int(0.5*frame.shape[1])\n",
    "    # Drawing the ROI\n",
    "    # The increment/decrement by 1 is to compensate for the bounding box\n",
    "    cv2.rectangle(frame, (x1-1, y1-1), (x2+1, y2+1), (255,0,0) ,1)\n",
    "    # Extracting the ROI\n",
    "    roi = frame[y1:y2, x1:x2]\n",
    "    roi = cv2.resize(roi, (64, 64)) \n",
    " \n",
    "    cv2.imshow(\"Frame\", frame)\n",
    "   \n",
    "    # do the processing after capturing the image!\n",
    "    roi = cv2.cvtColor(roi, cv2.COLOR_BGR2GRAY)\n",
    "    _, roi = cv2.threshold(roi, 120, 255, cv2.THRESH_BINARY)\n",
    "    cv2.imshow(\"ROI\", roi)\n",
    "    \n",
    "    interrupt = cv2.waitKey(10)\n",
    "    if interrupt & 0xFF == 27: # esc key\n",
    "        break\n",
    "    if interrupt & 0xFF == ord('0'):\n",
    "        cv2.imwrite(directory+'0/'+str(count['Breaks'])+'.jpg', roi)#saving the image in the particular format mentioned and in the given directory\n",
    "    if interrupt & 0xFF == ord('1'):\n",
    "        cv2.imwrite(directory+'1/'+str(count['Go Straight'])+'.jpg', roi)\n",
    "    if interrupt & 0xFF == ord('2'):\n",
    "        cv2.imwrite(directory+'2/'+str(count['Go Right'])+'.jpg', roi)\n",
    "    if interrupt & 0xFF == ord('3'):\n",
    "        cv2.imwrite(directory+'3/'+str(count['Go Left'])+'.jpg', roi)\n",
    "    if interrupt & 0xFF == ord('4'):\n",
    "        cv2.imwrite(directory+'4/'+str(count['pass'])+'.jpg', roi)\n",
    "   \n",
    " #ending the webcam window    \n",
    "cap.release() \n",
    "cv2.destroyAllWindows()"
   ]
  },
  {
   "cell_type": "code",
   "execution_count": null,
   "id": "ee0b27a6",
   "metadata": {},
   "outputs": [],
   "source": []
  },
  {
   "cell_type": "code",
   "execution_count": null,
   "id": "db49b813",
   "metadata": {},
   "outputs": [],
   "source": []
  }
 ],
 "metadata": {
  "kernelspec": {
   "display_name": "Python 3",
   "language": "python",
   "name": "python3"
  },
  "language_info": {
   "codemirror_mode": {
    "name": "ipython",
    "version": 3
   },
   "file_extension": ".py",
   "mimetype": "text/x-python",
   "name": "python",
   "nbconvert_exporter": "python",
   "pygments_lexer": "ipython3",
   "version": "3.8.8"
  }
 },
 "nbformat": 4,
 "nbformat_minor": 5
}
